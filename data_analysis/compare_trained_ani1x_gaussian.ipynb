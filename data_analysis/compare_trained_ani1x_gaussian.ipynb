{
 "cells": [
  {
   "cell_type": "code",
   "execution_count": 1,
   "metadata": {},
   "outputs": [],
   "source": [
    "import numpy as np"
   ]
  },
  {
   "cell_type": "code",
   "execution_count": 34,
   "metadata": {},
   "outputs": [],
   "source": [
    "N = 20\n",
    "c = 0 \n",
    "trnd_ene = np.zeros((N,), dtype=float)\n",
    "ani1x_ene = np.zeros((N,), dtype=float)\n",
    "\n",
    "for j in range(0,N):\n",
    "    lines = open('/home/delaram/documents/methane/1HEAT/flexibleWater/gaussian/compare_ani_gaussian/small-box/methane_solvate_5A_trnd.out.'+ str(j+1), 'r').readlines()\n",
    "    for i in range(0,len(lines)):\n",
    "        try:\n",
    "            curr = lines[i].split()\n",
    "            if curr[0]== 'NSTEP':\n",
    "                trnd_ene[c] = float(lines[i+1].split()[8])\n",
    "\n",
    "        except:\n",
    "            continue\n",
    "\n",
    "    lines = open('/home/delaram/documents/methane/1HEAT/flexibleWater/gaussian/compare_ani_gaussian/small-box/methane_solvate_5A_ani1x.out.'+ str(j+1), 'r').readlines()\n",
    "    for i in range(0,len(lines)):\n",
    "        try:\n",
    "            curr = lines[i].split()\n",
    "            if curr[0]== 'NSTEP':\n",
    "                ani1x_ene[c] = float(lines[i+1].split()[8])\n",
    "        except:\n",
    "            continue\n",
    "            \n",
    "    lines = open('/home/delaram/documents/methane/1HEAT/flexibleWater/gaussian/compare_ani_gaussian/small-box/methane_solvate_5A_amber.'+ str(j+1) + '.log', 'r').readlines()\n",
    "    for i in range(0,len(lines)):\n",
    "        try:\n",
    "            curr = lines[i].split()\n",
    "            if curr[0] == 'SCF':\n",
    "                gau_ene[c] = float(lines[i].split()[4])\n",
    "                c += 1\n",
    "        except:\n",
    "            continue\n",
    "            "
   ]
  },
  {
   "cell_type": "code",
   "execution_count": 36,
   "metadata": {},
   "outputs": [
    {
     "name": "stdout",
     "output_type": "stream",
     "text": [
      "[-3381378.365  -3381386.9193 -3381393.502  -3381392.2072 -3381379.9607\n",
      " -3381402.1353 -3381370.4793 -3381391.51   -3381398.011  -3381404.8032\n",
      " -3381393.9036 -3381379.7306 -3381404.6196 -3381387.8231 -3381422.8647\n",
      " -3381369.2467 -3381366.4285 -3381382.1392 -3381359.6559 -3381375.8481]\n",
      "[-3381362.8709 -3381371.8308 -3381376.4243 -3381376.1098 -3381359.5807\n",
      " -3381383.3678 -3381353.8551 -3381373.6033 -3381379.1488 -3381386.5874\n",
      " -3381375.3578 -3381361.1297 -3381386.53   -3381365.4222 -3381403.3349\n",
      " -3381350.587  -3381350.2163 -3381365.5345 -3381340.8498 -3381357.8802]\n"
     ]
    }
   ],
   "source": [
    "print(trnd_ene)\n",
    "print(ani1x_ene)\n"
   ]
  },
  {
   "cell_type": "code",
   "execution_count": null,
   "metadata": {},
   "outputs": [],
   "source": []
  }
 ],
 "metadata": {
  "kernelspec": {
   "display_name": "Python 3",
   "language": "python",
   "name": "python3"
  },
  "language_info": {
   "codemirror_mode": {
    "name": "ipython",
    "version": 3
   },
   "file_extension": ".py",
   "mimetype": "text/x-python",
   "name": "python",
   "nbconvert_exporter": "python",
   "pygments_lexer": "ipython3",
   "version": "3.6.8"
  }
 },
 "nbformat": 4,
 "nbformat_minor": 2
}
